{
 "cells": [
  {
   "cell_type": "code",
   "execution_count": 28,
   "metadata": {},
   "outputs": [
    {
     "name": "stdout",
     "output_type": "stream",
     "text": [
      "잠시후 캡쳐된 화면에서 찾고자 하는 음식의 왼쪽 위, 오른쪽 아래를 각각 클릭해주세요\n"
     ]
    }
   ],
   "source": [
    "from PIL import ImageGrab\n",
    "import cv2\n",
    "from selenium import webdriver \n",
    "from keras.models import load_model\n",
    "import os\n",
    "\n",
    "print(\"잠시후 캡쳐된 화면에서 찾고자 하는 음식의 왼쪽 위, 오른쪽 아래를 각각 클릭해주세요\")\n",
    "\n",
    "\n",
    "model=load_model('food_classfication_git_ver(31개,58.13%).h5')\n",
    "\n",
    "#스크린 전체를 캡쳐해서 screenshot.png로 저장\n",
    "img=ImageGrab.grab()\n",
    "saveas='screenshot.png'\n",
    "img.save(saveas)\n",
    "\n",
    "#캡쳐한 screenshot.png에서 음식이 있는 부분을 클릭을 통하여 ROI로 설정 (왼쪽 위 더블클릭, 오른쪽 아래 더블클릭)\n",
    "def on_mouse(event, x, y, flags, param):\n",
    "      if event == cv2.EVENT_LBUTTONUP:\n",
    "            points.append([x, y])\n",
    "            \n",
    "\n",
    "points = list()\n",
    "img=cv2.imread('screenshot.png')\n",
    "img=cv2.resize(img,dsize=(1280,720),interpolation=cv2.INTER_AREA)\n",
    "            \n",
    "cv2.namedWindow('img')\n",
    "cv2.setMouseCallback('img', on_mouse)\n",
    "cv2.imshow(\"img\", img)\n",
    "\n",
    "#Mouse Event를 사용하여 ROI 설정\n",
    "while True:\n",
    "     if len(points) == 2:\n",
    "        x = points[0][0]\n",
    "        y = points[0][1]\n",
    "        ROI = img[y:points[1][1], x:points[1][0]]\n",
    "        break \n",
    "     cv2.waitKey(30)\n",
    "\n",
    "#설정한 ROI가 맞는지 확인하고 맞다면 ESC를 눌러 창을 종료\n",
    "cv2.imshow(\"ROI\", ROI)\n",
    "cv2.waitKey(0)\n",
    "cv2.destroyAllWindows()\n",
    "\n",
    "\n",
    "#image classification을 위한 ROI resize및  predict\n",
    "img=ROI\n",
    "#img=img.resize(105,500,3)\n",
    "dst = cv2.resize(img, dsize=(224,224), interpolation=cv2.INTER_AREA)\n",
    "dst=dst.reshape(1,224,224,3)\n",
    "predict = model.predict_classes(dst)"
   ]
  },
  {
   "cell_type": "code",
   "execution_count": 29,
   "metadata": {},
   "outputs": [
    {
     "name": "stdout",
     "output_type": "stream",
     "text": [
      "검색하신 음식은 초코 케이크 입니다.\n"
     ]
    }
   ],
   "source": [
    "#dataset의 class들을 이름으로 표현하고 predict값과 class의 이름을 동일화\n",
    "\n",
    "path_dir=\"images\"\n",
    "file_list=os.listdir(path_dir)\n",
    "\n",
    "#predict된 class의 이름을 keyword로 지정\n",
    "keyword=file_list[predict[0]]\n",
    "\n",
    "print(\"검색하신 음식은\", keyword,\"입니다.\")"
   ]
  },
  {
   "cell_type": "code",
   "execution_count": 30,
   "metadata": {},
   "outputs": [
    {
     "name": "stdout",
     "output_type": "stream",
     "text": [
      "현재위치 주변 초코 케이크 음식점을 검색하고 있습니다. 잠시만 기다려주세요.\n"
     ]
    }
   ],
   "source": [
    "#selenium을 이용하여 다음 카카오맵에서 자동으로 predict한 class 키워드 검색 -> 주변 음식점 찾기\n",
    "driver = webdriver.Chrome('chromedriver.exe') \n",
    "print(\"현재위치 주변\",keyword,\"음식점을 검색하고 있습니다. 잠시만 기다려주세요.\")\n",
    "driver.implicitly_wait(3) \n",
    "driver.get('https://map.kakao.com/')\n",
    "ele1=driver.find_element_by_id(\"search.keyword.query\")\n",
    "ele1.send_keys(keyword)\n",
    "ele1.send_keys('\\n')"
   ]
  },
  {
   "cell_type": "code",
   "execution_count": null,
   "metadata": {},
   "outputs": [],
   "source": []
  }
 ],
 "metadata": {
  "kernelspec": {
   "display_name": "Python 3",
   "language": "python",
   "name": "python3"
  },
  "language_info": {
   "codemirror_mode": {
    "name": "ipython",
    "version": 3
   },
   "file_extension": ".py",
   "mimetype": "text/x-python",
   "name": "python",
   "nbconvert_exporter": "python",
   "pygments_lexer": "ipython3",
   "version": "3.7.5"
  }
 },
 "nbformat": 4,
 "nbformat_minor": 2
}
