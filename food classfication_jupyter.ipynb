{
 "cells": [
  {
   "cell_type": "code",
   "execution_count": 3,
   "metadata": {
    "colab": {},
    "colab_type": "code",
    "id": "ugCwAjPNZxu3"
   },
   "outputs": [],
   "source": [
    "import pandas as pd\n",
    "import numpy as np\n",
    "import keras\n",
    "import glob\n",
    "import matplotlib.pyplot as plt\n",
    "import scipy\n",
    "from sklearn.metrics import roc_curve, auc\n",
    "from keras.utils.np_utils import to_categorical\n",
    "from keras.models import Sequential, Model\n",
    "from keras.layers import Dense, Dropout, Flatten, Conv2D, MaxPool2D, GlobalAveragePooling2D, Input, BatchNormalization, Multiply, Activation\n",
    "from keras.optimizers import RMSprop, SGD\n",
    "from keras.regularizers import l2\n",
    "from keras.preprocessing.image import ImageDataGenerator\n",
    "from keras.utils import plot_model\n",
    "from keras.callbacks import ReduceLROnPlateau, ModelCheckpoint, EarlyStopping\n",
    "from sklearn.metrics import accuracy_score\n",
    "from sklearn.metrics import confusion_matrix\n",
    "from keras import backend as K\n",
    "import os\n",
    "np.random.seed(2020)"
   ]
  },
  {
   "cell_type": "code",
   "execution_count": 23,
   "metadata": {
    "colab": {
     "base_uri": "https://localhost:8080/",
     "height": 52
    },
    "colab_type": "code",
    "executionInfo": {
     "elapsed": 2843,
     "status": "ok",
     "timestamp": 1577809449870,
     "user": {
      "displayName": "정윤비",
      "photoUrl": "https://lh3.googleusercontent.com/a-/AAuE7mDPo7rDpuCFll8oq3tnoAes6qCXpMz_g3Q7sW4Q=s64",
      "userId": "01138123058524543991"
     },
     "user_tz": -540
    },
    "id": "2GqCtLZ9oVVt",
    "outputId": "0e99cbcd-5eb0-4efc-a52f-6c01d47085c7"
   },
   "outputs": [
    {
     "name": "stdout",
     "output_type": "stream",
     "text": [
      "Found 45600 images belonging to 57 classes.\n",
      "Found 11400 images belonging to 57 classes.\n"
     ]
    }
   ],
   "source": [
    "#train files 전처리\n",
    "train_datagen = ImageDataGenerator(featurewise_center=False,\n",
    "                 samplewise_center=False,\n",
    "                 featurewise_std_normalization=False,\n",
    "                 samplewise_std_normalization=False,\n",
    "                 zca_whitening=False,\n",
    "                 rotation_range=5,\n",
    "                 width_shift_range=0.05,\n",
    "                 height_shift_range=0.05,\n",
    "                # shear_range=0.2,\n",
    "                 zoom_range=0.2,\n",
    "                 #channel_shift_range=0.,\n",
    "                #fill_mode='nearest',\n",
    "                 #cval=0.,\n",
    "                 horizontal_flip=True,\n",
    "                 vertical_flip=False,\n",
    "                 rescale=1/255,  #rescale to [0-1], add zoom range of 0.2x and horizontal flip\n",
    "                 validation_split=0.2) # set validation split)\n",
    "\n",
    "train_generator = train_datagen.flow_from_directory(\n",
    "        \"food-101\\images\",\n",
    "        target_size=(224,224),\n",
    "        batch_size=64,\n",
    "        subset='training') # set as training data\n",
    "\n",
    "#validation set 생성\n",
    "validation_generator = train_datagen.flow_from_directory(\n",
    "    \"food-101\\images\",\n",
    "    target_size=(224,224),\n",
    "    batch_size=64,\n",
    "    subset='validation') # set as validation data"
   ]
  },
  {
   "cell_type": "code",
   "execution_count": 24,
   "metadata": {
    "colab": {},
    "colab_type": "code",
    "id": "Z9uxpOluoiEt"
   },
   "outputs": [],
   "source": [
    "#Modeling\n",
    "model = Sequential()\n",
    "model.add(Conv2D(32, (3, 3), activation='relu', input_shape=(224,224,3)))\n",
    "model.add(Conv2D(32, (3, 3), activation='relu'))\n",
    "model.add(MaxPool2D(pool_size=(2, 2)))\n",
    "model.add(Dropout(0.25))\n",
    "model.add(Conv2D(64, (3, 3), activation='relu'))\n",
    "model.add(Conv2D(64, (3, 3), activation='relu'))\n",
    "model.add(MaxPool2D(pool_size=(2, 2)))\n",
    "model.add(Dropout(0.25))\n",
    "model.add(Flatten())\n",
    "model.add(Dense(256, activation='relu'))\n",
    "model.add(Dropout(0.5))\n",
    "model.add(Dense(57, activation='softmax'))\n",
    "\n",
    "model.compile(loss='categorical_crossentropy', optimizer='sgd', metrics=['accuracy'])"
   ]
  },
  {
   "cell_type": "code",
   "execution_count": 25,
   "metadata": {
    "colab": {
     "base_uri": "https://localhost:8080/",
     "height": 404
    },
    "colab_type": "code",
    "executionInfo": {
     "elapsed": 590,
     "status": "ok",
     "timestamp": 1577809650814,
     "user": {
      "displayName": "정윤비",
      "photoUrl": "https://lh3.googleusercontent.com/a-/AAuE7mDPo7rDpuCFll8oq3tnoAes6qCXpMz_g3Q7sW4Q=s64",
      "userId": "01138123058524543991"
     },
     "user_tz": -540
    },
    "id": "vHdB8UNYp63-",
    "outputId": "dbaa76b5-6e9d-40cb-a474-d65c75ac93c5"
   },
   "outputs": [
    {
     "name": "stdout",
     "output_type": "stream",
     "text": [
      "_________________________________________________________________\n",
      "Layer (type)                 Output Shape              Param #   \n",
      "=================================================================\n",
      "conv2d_9 (Conv2D)            (None, 222, 222, 32)      896       \n",
      "_________________________________________________________________\n",
      "conv2d_10 (Conv2D)           (None, 220, 220, 32)      9248      \n",
      "_________________________________________________________________\n",
      "max_pooling2d_5 (MaxPooling2 (None, 110, 110, 32)      0         \n",
      "_________________________________________________________________\n",
      "dropout_7 (Dropout)          (None, 110, 110, 32)      0         \n",
      "_________________________________________________________________\n",
      "conv2d_11 (Conv2D)           (None, 108, 108, 64)      18496     \n",
      "_________________________________________________________________\n",
      "conv2d_12 (Conv2D)           (None, 106, 106, 64)      36928     \n",
      "_________________________________________________________________\n",
      "max_pooling2d_6 (MaxPooling2 (None, 53, 53, 64)        0         \n",
      "_________________________________________________________________\n",
      "dropout_8 (Dropout)          (None, 53, 53, 64)        0         \n",
      "_________________________________________________________________\n",
      "flatten_3 (Flatten)          (None, 179776)            0         \n",
      "_________________________________________________________________\n",
      "dense_5 (Dense)              (None, 256)               46022912  \n",
      "_________________________________________________________________\n",
      "dropout_9 (Dropout)          (None, 256)               0         \n",
      "_________________________________________________________________\n",
      "dense_6 (Dense)              (None, 57)                14649     \n",
      "=================================================================\n",
      "Total params: 46,103,129\n",
      "Trainable params: 46,103,129\n",
      "Non-trainable params: 0\n",
      "_________________________________________________________________\n"
     ]
    }
   ],
   "source": [
    "model.summary()"
   ]
  },
  {
   "cell_type": "code",
   "execution_count": 27,
   "metadata": {
    "colab": {
     "base_uri": "https://localhost:8080/",
     "height": 369
    },
    "colab_type": "code",
    "executionInfo": {
     "elapsed": 727870,
     "status": "ok",
     "timestamp": 1577814786829,
     "user": {
      "displayName": "정윤비",
      "photoUrl": "https://lh3.googleusercontent.com/a-/AAuE7mDPo7rDpuCFll8oq3tnoAes6qCXpMz_g3Q7sW4Q=s64",
      "userId": "01138123058524543991"
     },
     "user_tz": -540
    },
    "id": "f1GRokXQqYTL",
    "outputId": "0c99ff31-0c6e-47e5-957e-f6f0a5f20e3c"
   },
   "outputs": [
    {
     "name": "stdout",
     "output_type": "stream",
     "text": [
      "Epoch 1/100\n",
      "100/100 [==============================] - 147s 1s/step - loss: 4.0484 - acc: 0.0213 - val_loss: 4.0394 - val_acc: 0.0194\n",
      "Epoch 2/100\n",
      "100/100 [==============================] - 137s 1s/step - loss: 4.0375 - acc: 0.0222 - val_loss: 4.0343 - val_acc: 0.0256\n",
      "Epoch 3/100\n",
      "100/100 [==============================] - 137s 1s/step - loss: 4.0285 - acc: 0.0252 - val_loss: 4.0249 - val_acc: 0.0300\n",
      "Epoch 4/100\n",
      "100/100 [==============================] - 133s 1s/step - loss: 4.0135 - acc: 0.0284 - val_loss: 4.0074 - val_acc: 0.0309\n",
      "Epoch 5/100\n",
      "100/100 [==============================] - 134s 1s/step - loss: 4.0045 - acc: 0.0317 - val_loss: 3.9935 - val_acc: 0.0391\n",
      "Epoch 6/100\n",
      "100/100 [==============================] - 133s 1s/step - loss: 3.9872 - acc: 0.0348 - val_loss: 3.9750 - val_acc: 0.0413\n",
      "Epoch 7/100\n",
      "100/100 [==============================] - 133s 1s/step - loss: 3.9791 - acc: 0.0383 - val_loss: 3.9644 - val_acc: 0.0506\n",
      "Epoch 8/100\n",
      "100/100 [==============================] - 130s 1s/step - loss: 3.9638 - acc: 0.0423 - val_loss: 3.9432 - val_acc: 0.0563\n",
      "Epoch 9/100\n",
      "100/100 [==============================] - 129s 1s/step - loss: 3.9570 - acc: 0.0423 - val_loss: 3.9332 - val_acc: 0.0469\n",
      "Epoch 10/100\n",
      "100/100 [==============================] - 129s 1s/step - loss: 3.9383 - acc: 0.0458 - val_loss: 3.9355 - val_acc: 0.0519\n",
      "Epoch 11/100\n",
      "100/100 [==============================] - 128s 1s/step - loss: 3.9333 - acc: 0.0458 - val_loss: 3.9109 - val_acc: 0.0512\n",
      "Epoch 12/100\n",
      "100/100 [==============================] - 130s 1s/step - loss: 3.9214 - acc: 0.0467 - val_loss: 3.9053 - val_acc: 0.0569\n",
      "Epoch 13/100\n",
      "100/100 [==============================] - 129s 1s/step - loss: 3.9146 - acc: 0.0514 - val_loss: 3.8912 - val_acc: 0.0603\n",
      "Epoch 14/100\n",
      "100/100 [==============================] - 130s 1s/step - loss: 3.8994 - acc: 0.0552 - val_loss: 3.8719 - val_acc: 0.0634\n",
      "Epoch 15/100\n",
      "100/100 [==============================] - 129s 1s/step - loss: 3.8952 - acc: 0.0497 - val_loss: 3.8616 - val_acc: 0.0687\n",
      "Epoch 16/100\n",
      "100/100 [==============================] - 129s 1s/step - loss: 3.8803 - acc: 0.0563 - val_loss: 3.8579 - val_acc: 0.0659\n",
      "Epoch 17/100\n",
      "100/100 [==============================] - 127s 1s/step - loss: 3.8735 - acc: 0.0594 - val_loss: 3.8426 - val_acc: 0.0731\n",
      "Epoch 18/100\n",
      "100/100 [==============================] - 130s 1s/step - loss: 3.8454 - acc: 0.0606 - val_loss: 3.8156 - val_acc: 0.0786\n",
      "Epoch 19/100\n",
      "100/100 [==============================] - 130s 1s/step - loss: 3.8650 - acc: 0.0550 - val_loss: 3.8209 - val_acc: 0.0791\n",
      "Epoch 20/100\n",
      "100/100 [==============================] - 128s 1s/step - loss: 3.8287 - acc: 0.0606 - val_loss: 3.8090 - val_acc: 0.0703\n",
      "Epoch 21/100\n",
      "100/100 [==============================] - 130s 1s/step - loss: 3.8218 - acc: 0.0647 - val_loss: 3.7769 - val_acc: 0.0862\n",
      "Epoch 22/100\n",
      "100/100 [==============================] - 130s 1s/step - loss: 3.7981 - acc: 0.0742 - val_loss: 3.7410 - val_acc: 0.0903\n",
      "Epoch 23/100\n",
      "100/100 [==============================] - 130s 1s/step - loss: 3.7823 - acc: 0.0723 - val_loss: 3.7538 - val_acc: 0.0828\n",
      "Epoch 24/100\n",
      "100/100 [==============================] - 128s 1s/step - loss: 3.7637 - acc: 0.0803 - val_loss: 3.7461 - val_acc: 0.0931\n",
      "Epoch 25/100\n",
      "100/100 [==============================] - 129s 1s/step - loss: 3.7738 - acc: 0.0831 - val_loss: 3.7020 - val_acc: 0.0967\n",
      "Epoch 26/100\n",
      "100/100 [==============================] - 131s 1s/step - loss: 3.7346 - acc: 0.0831 - val_loss: 3.7101 - val_acc: 0.0972\n",
      "Epoch 27/100\n",
      "100/100 [==============================] - 130s 1s/step - loss: 3.7355 - acc: 0.0858 - val_loss: 3.6711 - val_acc: 0.1116\n",
      "Epoch 28/100\n",
      "100/100 [==============================] - 131s 1s/step - loss: 3.7131 - acc: 0.0864 - val_loss: 3.6366 - val_acc: 0.1197\n",
      "Epoch 29/100\n",
      "100/100 [==============================] - 127s 1s/step - loss: 3.6877 - acc: 0.0909 - val_loss: 3.6674 - val_acc: 0.1005\n",
      "Epoch 30/100\n",
      "100/100 [==============================] - 128s 1s/step - loss: 3.6874 - acc: 0.0930 - val_loss: 3.6529 - val_acc: 0.1100\n",
      "Epoch 31/100\n",
      "100/100 [==============================] - 129s 1s/step - loss: 3.6911 - acc: 0.0889 - val_loss: 3.6481 - val_acc: 0.1263\n",
      "Epoch 32/100\n",
      "100/100 [==============================] - 133s 1s/step - loss: 3.6788 - acc: 0.0952 - val_loss: 3.5954 - val_acc: 0.1300\n",
      "Epoch 33/100\n",
      "100/100 [==============================] - 131s 1s/step - loss: 3.6743 - acc: 0.0962 - val_loss: 3.6049 - val_acc: 0.1170\n",
      "Epoch 34/100\n",
      "100/100 [==============================] - 130s 1s/step - loss: 3.6497 - acc: 0.1016 - val_loss: 3.5800 - val_acc: 0.1184\n",
      "Epoch 35/100\n",
      "100/100 [==============================] - 130s 1s/step - loss: 3.6525 - acc: 0.0984 - val_loss: 3.6035 - val_acc: 0.1131\n",
      "Epoch 36/100\n",
      "100/100 [==============================] - 127s 1s/step - loss: 3.6231 - acc: 0.1094 - val_loss: 3.5634 - val_acc: 0.1310\n",
      "Epoch 37/100\n",
      "100/100 [==============================] - 129s 1s/step - loss: 3.6195 - acc: 0.1094 - val_loss: 3.5962 - val_acc: 0.1197\n",
      "Epoch 38/100\n",
      "100/100 [==============================] - 129s 1s/step - loss: 3.6225 - acc: 0.1002 - val_loss: 3.5906 - val_acc: 0.1141\n",
      "Epoch 39/100\n",
      "100/100 [==============================] - 130s 1s/step - loss: 3.6025 - acc: 0.1045 - val_loss: 3.5413 - val_acc: 0.1228\n",
      "Epoch 40/100\n",
      "100/100 [==============================] - 128s 1s/step - loss: 3.6056 - acc: 0.1081 - val_loss: 3.5502 - val_acc: 0.1269\n",
      "Epoch 41/100\n",
      "100/100 [==============================] - 129s 1s/step - loss: 3.5812 - acc: 0.1091 - val_loss: 3.5467 - val_acc: 0.1309\n",
      "Epoch 42/100\n",
      "100/100 [==============================] - 130s 1s/step - loss: 3.5951 - acc: 0.1108 - val_loss: 3.5323 - val_acc: 0.1241\n",
      "Epoch 43/100\n",
      "100/100 [==============================] - 128s 1s/step - loss: 3.5829 - acc: 0.1177 - val_loss: 3.5052 - val_acc: 0.1469\n",
      "Epoch 44/100\n",
      "100/100 [==============================] - 131s 1s/step - loss: 3.5483 - acc: 0.1244 - val_loss: 3.4790 - val_acc: 0.1406\n",
      "Epoch 45/100\n",
      "100/100 [==============================] - 131s 1s/step - loss: 3.5486 - acc: 0.1175 - val_loss: 3.5195 - val_acc: 0.1316\n",
      "Epoch 46/100\n",
      "100/100 [==============================] - 129s 1s/step - loss: 3.5578 - acc: 0.1141 - val_loss: 3.4974 - val_acc: 0.1459\n",
      "Epoch 47/100\n",
      "100/100 [==============================] - 129s 1s/step - loss: 3.5551 - acc: 0.1156 - val_loss: 3.4752 - val_acc: 0.1330\n",
      "Epoch 48/100\n",
      "100/100 [==============================] - 131s 1s/step - loss: 3.5559 - acc: 0.1192 - val_loss: 3.4903 - val_acc: 0.1500\n",
      "Epoch 49/100\n",
      "100/100 [==============================] - 130s 1s/step - loss: 3.5416 - acc: 0.1219 - val_loss: 3.4921 - val_acc: 0.1416\n",
      "Epoch 50/100\n",
      "100/100 [==============================] - 129s 1s/step - loss: 3.5397 - acc: 0.1225 - val_loss: 3.4601 - val_acc: 0.1491\n",
      "Epoch 51/100\n",
      "100/100 [==============================] - 131s 1s/step - loss: 3.5091 - acc: 0.1256 - val_loss: 3.4741 - val_acc: 0.1314\n",
      "Epoch 52/100\n",
      "100/100 [==============================] - 129s 1s/step - loss: 3.5130 - acc: 0.1236 - val_loss: 3.4663 - val_acc: 0.1509\n",
      "Epoch 53/100\n",
      "100/100 [==============================] - 130s 1s/step - loss: 3.5048 - acc: 0.1289 - val_loss: 3.4651 - val_acc: 0.1475\n",
      "Epoch 54/100\n",
      "100/100 [==============================] - 129s 1s/step - loss: 3.4831 - acc: 0.1352 - val_loss: 3.4108 - val_acc: 0.1460\n",
      "Epoch 55/100\n",
      "100/100 [==============================] - 130s 1s/step - loss: 3.5010 - acc: 0.1306 - val_loss: 3.4588 - val_acc: 0.1519\n",
      "Epoch 56/100\n",
      "100/100 [==============================] - 130s 1s/step - loss: 3.4969 - acc: 0.1278 - val_loss: 3.4384 - val_acc: 0.1491\n",
      "Epoch 57/100\n",
      "100/100 [==============================] - 129s 1s/step - loss: 3.4752 - acc: 0.1381 - val_loss: 3.4308 - val_acc: 0.1562\n",
      "Epoch 58/100\n",
      "100/100 [==============================] - 131s 1s/step - loss: 3.4643 - acc: 0.1341 - val_loss: 3.3706 - val_acc: 0.1590\n",
      "Epoch 59/100\n",
      "100/100 [==============================] - 131s 1s/step - loss: 3.4399 - acc: 0.1417 - val_loss: 3.3383 - val_acc: 0.1669\n",
      "Epoch 60/100\n",
      "100/100 [==============================] - 129s 1s/step - loss: 3.4505 - acc: 0.1372 - val_loss: 3.4270 - val_acc: 0.1613\n",
      "Epoch 61/100\n",
      "100/100 [==============================] - 130s 1s/step - loss: 3.4432 - acc: 0.1398 - val_loss: 3.3563 - val_acc: 0.1597\n"
     ]
    },
    {
     "name": "stdout",
     "output_type": "stream",
     "text": [
      "Epoch 62/100\n",
      "100/100 [==============================] - 128s 1s/step - loss: 3.4202 - acc: 0.1428 - val_loss: 3.3807 - val_acc: 0.1616\n",
      "Epoch 63/100\n",
      "100/100 [==============================] - 128s 1s/step - loss: 3.4343 - acc: 0.1461 - val_loss: 3.3725 - val_acc: 0.1628\n",
      "Epoch 64/100\n",
      "100/100 [==============================] - 131s 1s/step - loss: 3.4305 - acc: 0.1462 - val_loss: 3.3718 - val_acc: 0.1694\n",
      "Epoch 65/100\n",
      "100/100 [==============================] - 129s 1s/step - loss: 3.4037 - acc: 0.1448 - val_loss: 3.3820 - val_acc: 0.1616\n",
      "Epoch 66/100\n",
      "100/100 [==============================] - 130s 1s/step - loss: 3.4048 - acc: 0.1520 - val_loss: 3.3574 - val_acc: 0.1691\n",
      "Epoch 67/100\n",
      "100/100 [==============================] - 129s 1s/step - loss: 3.4122 - acc: 0.1431 - val_loss: 3.3204 - val_acc: 0.1772\n",
      "Epoch 68/100\n",
      "100/100 [==============================] - 128s 1s/step - loss: 3.3933 - acc: 0.1478 - val_loss: 3.3216 - val_acc: 0.1877\n",
      "Epoch 69/100\n",
      "100/100 [==============================] - 131s 1s/step - loss: 3.4137 - acc: 0.1486 - val_loss: 3.3149 - val_acc: 0.1766\n",
      "Epoch 70/100\n",
      "100/100 [==============================] - 130s 1s/step - loss: 3.3905 - acc: 0.1573 - val_loss: 3.2893 - val_acc: 0.1800\n",
      "Epoch 71/100\n",
      "100/100 [==============================] - 130s 1s/step - loss: 3.3798 - acc: 0.1575 - val_loss: 3.3317 - val_acc: 0.1653\n",
      "Epoch 72/100\n",
      "100/100 [==============================] - 129s 1s/step - loss: 3.3798 - acc: 0.1592 - val_loss: 3.3209 - val_acc: 0.1835\n",
      "Epoch 73/100\n",
      "100/100 [==============================] - 131s 1s/step - loss: 3.3467 - acc: 0.1559 - val_loss: 3.3305 - val_acc: 0.1719\n",
      "Epoch 74/100\n",
      "100/100 [==============================] - 127s 1s/step - loss: 3.3622 - acc: 0.1533 - val_loss: 3.2463 - val_acc: 0.1812\n",
      "Epoch 75/100\n",
      "100/100 [==============================] - 129s 1s/step - loss: 3.3547 - acc: 0.1559 - val_loss: 3.2747 - val_acc: 0.1809\n",
      "Epoch 76/100\n",
      "100/100 [==============================] - 130s 1s/step - loss: 3.3542 - acc: 0.1530 - val_loss: 3.2673 - val_acc: 0.1819\n",
      "Epoch 77/100\n",
      "100/100 [==============================] - 130s 1s/step - loss: 3.3440 - acc: 0.1558 - val_loss: 3.3084 - val_acc: 0.1812\n",
      "Epoch 78/100\n",
      "100/100 [==============================] - 131s 1s/step - loss: 3.3428 - acc: 0.1577 - val_loss: 3.2291 - val_acc: 0.1972\n",
      "Epoch 79/100\n",
      "100/100 [==============================] - 129s 1s/step - loss: 3.3330 - acc: 0.1687 - val_loss: 3.2643 - val_acc: 0.1877\n",
      "Epoch 80/100\n",
      "100/100 [==============================] - 129s 1s/step - loss: 3.2922 - acc: 0.1700 - val_loss: 3.2483 - val_acc: 0.1862\n",
      "Epoch 81/100\n",
      "100/100 [==============================] - 131s 1s/step - loss: 3.3212 - acc: 0.1683 - val_loss: 3.2479 - val_acc: 0.1931\n",
      "Epoch 82/100\n",
      "100/100 [==============================] - 130s 1s/step - loss: 3.3038 - acc: 0.1652 - val_loss: 3.2236 - val_acc: 0.1981\n",
      "Epoch 83/100\n",
      "100/100 [==============================] - 129s 1s/step - loss: 3.3171 - acc: 0.1719 - val_loss: 3.2364 - val_acc: 0.1962\n",
      "Epoch 84/100\n",
      "100/100 [==============================] - 128s 1s/step - loss: 3.3010 - acc: 0.1664 - val_loss: 3.1991 - val_acc: 0.2087\n",
      "Epoch 85/100\n",
      "100/100 [==============================] - 130s 1s/step - loss: 3.2867 - acc: 0.1727 - val_loss: 3.2063 - val_acc: 0.2034\n",
      "Epoch 86/100\n",
      "100/100 [==============================] - 129s 1s/step - loss: 3.3150 - acc: 0.1634 - val_loss: 3.4272 - val_acc: 0.1562\n",
      "Epoch 87/100\n",
      "100/100 [==============================] - 131s 1s/step - loss: 3.3005 - acc: 0.1667 - val_loss: 3.1985 - val_acc: 0.2069\n",
      "Epoch 88/100\n",
      "100/100 [==============================] - 130s 1s/step - loss: 3.2588 - acc: 0.1800 - val_loss: 3.2070 - val_acc: 0.1888\n",
      "Epoch 89/100\n",
      "100/100 [==============================] - 129s 1s/step - loss: 3.2575 - acc: 0.1780 - val_loss: 3.1836 - val_acc: 0.2006\n",
      "Epoch 90/100\n",
      "100/100 [==============================] - 128s 1s/step - loss: 3.2826 - acc: 0.1767 - val_loss: 3.2167 - val_acc: 0.2061\n",
      "Epoch 91/100\n",
      "100/100 [==============================] - 130s 1s/step - loss: 3.2926 - acc: 0.1661 - val_loss: 3.2431 - val_acc: 0.1947\n",
      "Epoch 92/100\n",
      "100/100 [==============================] - 129s 1s/step - loss: 3.2432 - acc: 0.1820 - val_loss: 3.1632 - val_acc: 0.2109\n",
      "Epoch 93/100\n",
      "100/100 [==============================] - 127s 1s/step - loss: 3.2499 - acc: 0.1770 - val_loss: 3.1722 - val_acc: 0.2020\n",
      "Epoch 94/100\n",
      "100/100 [==============================] - 129s 1s/step - loss: 3.2410 - acc: 0.1852 - val_loss: 3.2464 - val_acc: 0.2006\n",
      "Epoch 95/100\n",
      "100/100 [==============================] - 130s 1s/step - loss: 3.2428 - acc: 0.1834 - val_loss: 3.1711 - val_acc: 0.2091\n",
      "Epoch 96/100\n",
      "100/100 [==============================] - 130s 1s/step - loss: 3.2464 - acc: 0.1819 - val_loss: 3.1534 - val_acc: 0.1956\n",
      "Epoch 97/100\n",
      "100/100 [==============================] - 127s 1s/step - loss: 3.2515 - acc: 0.1798 - val_loss: 3.1659 - val_acc: 0.2052\n",
      "Epoch 98/100\n",
      "100/100 [==============================] - 131s 1s/step - loss: 3.2304 - acc: 0.1844 - val_loss: 3.1648 - val_acc: 0.2191\n",
      "Epoch 99/100\n",
      "100/100 [==============================] - 129s 1s/step - loss: 3.2243 - acc: 0.1866 - val_loss: 3.1460 - val_acc: 0.2087\n",
      "Epoch 100/100\n",
      "100/100 [==============================] - 130s 1s/step - loss: 3.2527 - acc: 0.1789 - val_loss: 3.2040 - val_acc: 0.2006\n"
     ]
    }
   ],
   "source": [
    "#Model 학습 (using deeplearning)\n",
    "#steps_per_epoch이 작을수록 드는 시간이 적음\n",
    "history=model.fit_generator(\n",
    "        train_generator,\n",
    "        steps_per_epoch=100,\n",
    "        epochs=100,\n",
    "        validation_data=validation_generator,\n",
    "        validation_steps=50)"
   ]
  },
  {
   "cell_type": "code",
   "execution_count": 28,
   "metadata": {
    "colab": {
     "base_uri": "https://localhost:8080/",
     "height": 52
    },
    "colab_type": "code",
    "executionInfo": {
     "elapsed": 22929,
     "status": "ok",
     "timestamp": 1577814820592,
     "user": {
      "displayName": "정윤비",
      "photoUrl": "https://lh3.googleusercontent.com/a-/AAuE7mDPo7rDpuCFll8oq3tnoAes6qCXpMz_g3Q7sW4Q=s64",
      "userId": "01138123058524543991"
     },
     "user_tz": -540
    },
    "id": "jcgIdshzDaK2",
    "outputId": "429e7193-93e8-4d03-9e82-3e1056933041"
   },
   "outputs": [
    {
     "name": "stdout",
     "output_type": "stream",
     "text": [
      "-- Evaluate --\n",
      "acc: 18.44%\n"
     ]
    }
   ],
   "source": [
    "# 모델 평가하기\n",
    "print(\"-- Evaluate --\")\n",
    "\n",
    "scores = model.evaluate_generator(\n",
    "            validation_generator, \n",
    "            steps = 5)\n",
    "\n",
    "print(\"%s: %.2f%%\" %(model.metrics_names[1], scores[1]*100))"
   ]
  },
  {
   "cell_type": "code",
   "execution_count": 29,
   "metadata": {
    "colab": {},
    "colab_type": "code",
    "id": "cGbin8u0qecx"
   },
   "outputs": [],
   "source": [
    "from keras.models import load_model\n",
    "\n",
    "model.save('food_classfication.h5')"
   ]
  },
  {
   "cell_type": "code",
   "execution_count": 0,
   "metadata": {
    "colab": {},
    "colab_type": "code",
    "id": "LMzrk4h0F2al"
   },
   "outputs": [],
   "source": []
  }
 ],
 "metadata": {
  "colab": {
   "collapsed_sections": [],
   "name": "food classfication_colab_깊은CNN_낮은epoch.ipynb",
   "provenance": []
  },
  "kernelspec": {
   "display_name": "Python 3",
   "language": "python",
   "name": "python3"
  },
  "language_info": {
   "codemirror_mode": {
    "name": "ipython",
    "version": 3
   },
   "file_extension": ".py",
   "mimetype": "text/x-python",
   "name": "python",
   "nbconvert_exporter": "python",
   "pygments_lexer": "ipython3",
   "version": "3.7.4"
  }
 },
 "nbformat": 4,
 "nbformat_minor": 1
}
