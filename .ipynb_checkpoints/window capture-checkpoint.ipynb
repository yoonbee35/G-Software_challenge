{
 "cells": [
  {
   "cell_type": "code",
   "execution_count": 5,
   "metadata": {},
   "outputs": [],
   "source": [
    "#스크린 전체를 캡쳐해서 screenshot.png로 저장\n",
    "from PIL import ImageGrab\n",
    "import cv2\n",
    "\n",
    "\n",
    "img=ImageGrab.grab()\n",
    "saveas='screenshot.png'\n",
    "img.save(saveas)"
   ]
  },
  {
   "cell_type": "code",
   "execution_count": 22,
   "metadata": {},
   "outputs": [],
   "source": [
    "#캡쳐한 screenshot.png에서 음식이 있는 부분을 클릭을 통하여 ROI로 설정\n",
    "\n",
    "def on_mouse(event, x, y, flags, param):\n",
    "      if event == cv2.EVENT_LBUTTONDBLCLK:\n",
    "            points.append([x, y])\n",
    "            print(points)\n",
    "            \n",
    "\n",
    "points = list()\n",
    "img=cv2.imread('screenshot.png')\n",
    "img=cv2.resize(img,dsize=(1280,720),interpolation=cv2.INTER_AREA)\n",
    "            \n",
    "#cv2.namedWindow('img')\n",
    "cv2.imshow(\"img\", img)\n",
    "cv2.waitKey(0)\n",
    "cv2.destroyAllWindows()\n"
   ]
  },
  {
   "cell_type": "code",
   "execution_count": 8,
   "metadata": {},
   "outputs": [
    {
     "data": {
      "text/plain": [
       "(1080, 1920, 3)"
      ]
     },
     "execution_count": 8,
     "metadata": {},
     "output_type": "execute_result"
    }
   ],
   "source": [
    "img.shape"
   ]
  },
  {
   "cell_type": "code",
   "execution_count": null,
   "metadata": {},
   "outputs": [],
   "source": [
    "#cv2.rectangle(img,((points[0][0]),(points[0][1])),((points[1][0]),(points[1][1])),(255,0,0),1)\n",
    "\n",
    "while True:\n",
    "     if len(points) == 2:\n",
    "        x = points[0][0]\n",
    "        y = points[0][1]\n",
    "        ROI = img[y:points[1][1], x:points[1][0]]\n",
    "        break \n",
    "     cv2.waitKey(30)\n",
    "\n",
    "cv2.imshow(\"ROI\", ROI)\n",
    "cv2.waitKey(0)\n",
    "cv2.destroyAllWindows()"
   ]
  },
  {
   "cell_type": "code",
   "execution_count": null,
   "metadata": {},
   "outputs": [],
   "source": [
    "from keras.models import load_model\n",
    "model=load_model('./virtual_piano_model_final.h5')"
   ]
  },
  {
   "cell_type": "code",
   "execution_count": null,
   "metadata": {},
   "outputs": [],
   "source": [
    "model.summary()"
   ]
  },
  {
   "cell_type": "code",
   "execution_count": null,
   "metadata": {},
   "outputs": [],
   "source": [
    "ROI = cv2.resize(img, dsize=(224,224,3), interpolation=cv2.INTER_AREA)\n",
    "ROI=ROI.reshape(1,105,500,3)\n",
    "predict = model.predict_classes(dst)"
   ]
  }
 ],
 "metadata": {
  "kernelspec": {
   "display_name": "Python 3",
   "language": "python",
   "name": "python3"
  },
  "language_info": {
   "codemirror_mode": {
    "name": "ipython",
    "version": 3
   },
   "file_extension": ".py",
   "mimetype": "text/x-python",
   "name": "python",
   "nbconvert_exporter": "python",
   "pygments_lexer": "ipython3",
   "version": "3.7.5"
  }
 },
 "nbformat": 4,
 "nbformat_minor": 4
}
