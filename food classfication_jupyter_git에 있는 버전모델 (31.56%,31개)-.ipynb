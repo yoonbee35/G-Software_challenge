{
 "cells": [
  {
   "cell_type": "code",
   "execution_count": 1,
   "metadata": {
    "colab": {},
    "colab_type": "code",
    "id": "ugCwAjPNZxu3"
   },
   "outputs": [
    {
     "name": "stderr",
     "output_type": "stream",
     "text": [
      "Using TensorFlow backend.\n"
     ]
    }
   ],
   "source": [
    "import pandas as pd\n",
    "import numpy as np\n",
    "import keras\n",
    "import glob\n",
    "import matplotlib.pyplot as plt\n",
    "import scipy\n",
    "from sklearn.metrics import roc_curve, auc\n",
    "from keras.utils.np_utils import to_categorical\n",
    "from keras.models import Sequential, Model\n",
    "from keras.layers import Dense, Dropout, Flatten, Conv2D, MaxPool2D, GlobalAveragePooling2D, Input, BatchNormalization, Multiply, Activation\n",
    "from keras.optimizers import RMSprop, SGD\n",
    "from keras.regularizers import l2\n",
    "from keras.preprocessing.image import ImageDataGenerator\n",
    "from keras.utils import plot_model\n",
    "from keras.callbacks import ReduceLROnPlateau, ModelCheckpoint, EarlyStopping\n",
    "from sklearn.metrics import accuracy_score\n",
    "from sklearn.metrics import confusion_matrix\n",
    "from keras import backend as K\n",
    "import os\n",
    "np.random.seed(2020)"
   ]
  },
  {
   "cell_type": "code",
   "execution_count": 6,
   "metadata": {
    "colab": {
     "base_uri": "https://localhost:8080/",
     "height": 52
    },
    "colab_type": "code",
    "executionInfo": {
     "elapsed": 2843,
     "status": "ok",
     "timestamp": 1577809449870,
     "user": {
      "displayName": "정윤비",
      "photoUrl": "https://lh3.googleusercontent.com/a-/AAuE7mDPo7rDpuCFll8oq3tnoAes6qCXpMz_g3Q7sW4Q=s64",
      "userId": "01138123058524543991"
     },
     "user_tz": -540
    },
    "id": "2GqCtLZ9oVVt",
    "outputId": "0e99cbcd-5eb0-4efc-a52f-6c01d47085c7"
   },
   "outputs": [
    {
     "name": "stdout",
     "output_type": "stream",
     "text": [
      "Found 24800 images belonging to 31 classes.\n",
      "Found 6200 images belonging to 31 classes.\n"
     ]
    }
   ],
   "source": [
    "#train files 전처리\n",
    "train_datagen = ImageDataGenerator(featurewise_center=False,\n",
    "                 samplewise_center=False,\n",
    "                 featurewise_std_normalization=False,\n",
    "                 samplewise_std_normalization=False,\n",
    "                 rotation_range=20,\n",
    "                 width_shift_range=0.05,\n",
    "                 height_shift_range=0.05,\n",
    "                 shear_range=0.1,\n",
    "                 zoom_range=0.2,\n",
    "                 channel_shift_range=0.,\n",
    "                 fill_mode='nearest',\n",
    "                 horizontal_flip=True,\n",
    "                 vertical_flip=False,\n",
    "                 rescale=1/255,\n",
    "                 validation_split=0.2)\n",
    "\n",
    "train_generator = train_datagen.flow_from_directory(\n",
    "        \"food-101\\images\",\n",
    "        target_size=(224,224),\n",
    "        batch_size=64,\n",
    "        subset='training') # set as training data\n",
    "\n",
    "#validation set 생성\n",
    "validation_generator = train_datagen.flow_from_directory(\n",
    "    \"food-101\\images\",\n",
    "    target_size=(224,224),\n",
    "    batch_size=64,\n",
    "    subset='validation') # set as validation data"
   ]
  },
  {
   "cell_type": "code",
   "execution_count": 7,
   "metadata": {
    "colab": {},
    "colab_type": "code",
    "id": "Z9uxpOluoiEt"
   },
   "outputs": [],
   "source": [
    "#Modeling\n",
    "model = Sequential()\n",
    "model.add(Conv2D(filters = 32, kernel_size = (7,7), strides = 2, padding = 'Same', activation ='relu', input_shape = (224,224,3), kernel_initializer='he_normal'))\n",
    "model.add(Conv2D(filters = 32, kernel_size = (5,5), strides = 2, padding = 'Same', activation ='relu',kernel_initializer='he_normal'))\n",
    "model.add(MaxPool2D(pool_size=(2,2)))\n",
    "model.add(Dropout(0.2))\n",
    "model.add(Conv2D(filters = 64, kernel_size = (3,3),padding = 'Same', activation ='relu',kernel_initializer='he_normal'))\n",
    "model.add(Conv2D(filters = 64, kernel_size = (3,3),padding = 'Same', activation ='relu',kernel_initializer='he_normal'))\n",
    "model.add(MaxPool2D(pool_size=(2,2)))\n",
    "model.add(Dropout(0.2))\n",
    "model.add(Conv2D(filters = 128, kernel_size = (2,2),padding = 'Same', activation ='relu',kernel_initializer='he_normal'))\n",
    "model.add(Conv2D(filters = 128, kernel_size = (2,2),padding = 'Same', activation ='relu',kernel_initializer='he_normal'))\n",
    "model.add(MaxPool2D(pool_size=(2,2)))\n",
    "model.add(Dropout(0.2))\n",
    "model.add(Conv2D(filters = 256, kernel_size = (2,2),padding = 'Same', activation ='relu',kernel_initializer='he_normal'))\n",
    "model.add(Conv2D(filters = 512, kernel_size = (2,2),padding = 'Same', activation ='relu',kernel_initializer='he_normal'))\n",
    "model.add(GlobalAveragePooling2D())\n",
    "model.add(Dense(512, activation = \"relu\",kernel_initializer='he_normal'))\n",
    "model.add(Dropout(0.2))\n",
    "model.add(Dense(31, activation = \"softmax\",kernel_initializer='he_normal',kernel_regularizer=l2()))\n",
    "\n",
    "\n",
    "model.compile(optimizer = 'sgd' , loss = \"categorical_crossentropy\", metrics=[\"accuracy\"])"
   ]
  },
  {
   "cell_type": "code",
   "execution_count": 8,
   "metadata": {
    "colab": {
     "base_uri": "https://localhost:8080/",
     "height": 404
    },
    "colab_type": "code",
    "executionInfo": {
     "elapsed": 590,
     "status": "ok",
     "timestamp": 1577809650814,
     "user": {
      "displayName": "정윤비",
      "photoUrl": "https://lh3.googleusercontent.com/a-/AAuE7mDPo7rDpuCFll8oq3tnoAes6qCXpMz_g3Q7sW4Q=s64",
      "userId": "01138123058524543991"
     },
     "user_tz": -540
    },
    "id": "vHdB8UNYp63-",
    "outputId": "dbaa76b5-6e9d-40cb-a474-d65c75ac93c5"
   },
   "outputs": [
    {
     "name": "stdout",
     "output_type": "stream",
     "text": [
      "_________________________________________________________________\n",
      "Layer (type)                 Output Shape              Param #   \n",
      "=================================================================\n",
      "conv2d_9 (Conv2D)            (None, 112, 112, 32)      4736      \n",
      "_________________________________________________________________\n",
      "conv2d_10 (Conv2D)           (None, 56, 56, 32)        25632     \n",
      "_________________________________________________________________\n",
      "max_pooling2d_4 (MaxPooling2 (None, 28, 28, 32)        0         \n",
      "_________________________________________________________________\n",
      "dropout_5 (Dropout)          (None, 28, 28, 32)        0         \n",
      "_________________________________________________________________\n",
      "conv2d_11 (Conv2D)           (None, 28, 28, 64)        18496     \n",
      "_________________________________________________________________\n",
      "conv2d_12 (Conv2D)           (None, 28, 28, 64)        36928     \n",
      "_________________________________________________________________\n",
      "max_pooling2d_5 (MaxPooling2 (None, 14, 14, 64)        0         \n",
      "_________________________________________________________________\n",
      "dropout_6 (Dropout)          (None, 14, 14, 64)        0         \n",
      "_________________________________________________________________\n",
      "conv2d_13 (Conv2D)           (None, 14, 14, 128)       32896     \n",
      "_________________________________________________________________\n",
      "conv2d_14 (Conv2D)           (None, 14, 14, 128)       65664     \n",
      "_________________________________________________________________\n",
      "max_pooling2d_6 (MaxPooling2 (None, 7, 7, 128)         0         \n",
      "_________________________________________________________________\n",
      "dropout_7 (Dropout)          (None, 7, 7, 128)         0         \n",
      "_________________________________________________________________\n",
      "conv2d_15 (Conv2D)           (None, 7, 7, 256)         131328    \n",
      "_________________________________________________________________\n",
      "conv2d_16 (Conv2D)           (None, 7, 7, 512)         524800    \n",
      "_________________________________________________________________\n",
      "global_average_pooling2d_2 ( (None, 512)               0         \n",
      "_________________________________________________________________\n",
      "dense_3 (Dense)              (None, 512)               262656    \n",
      "_________________________________________________________________\n",
      "dropout_8 (Dropout)          (None, 512)               0         \n",
      "_________________________________________________________________\n",
      "dense_4 (Dense)              (None, 31)                15903     \n",
      "=================================================================\n",
      "Total params: 1,119,039\n",
      "Trainable params: 1,119,039\n",
      "Non-trainable params: 0\n",
      "_________________________________________________________________\n"
     ]
    }
   ],
   "source": [
    "model.summary()"
   ]
  },
  {
   "cell_type": "code",
   "execution_count": 10,
   "metadata": {
    "colab": {
     "base_uri": "https://localhost:8080/",
     "height": 369
    },
    "colab_type": "code",
    "executionInfo": {
     "elapsed": 727870,
     "status": "ok",
     "timestamp": 1577814786829,
     "user": {
      "displayName": "정윤비",
      "photoUrl": "https://lh3.googleusercontent.com/a-/AAuE7mDPo7rDpuCFll8oq3tnoAes6qCXpMz_g3Q7sW4Q=s64",
      "userId": "01138123058524543991"
     },
     "user_tz": -540
    },
    "id": "f1GRokXQqYTL",
    "outputId": "0c99ff31-0c6e-47e5-957e-f6f0a5f20e3c"
   },
   "outputs": [
    {
     "name": "stdout",
     "output_type": "stream",
     "text": [
      "Epoch 1/100\n",
      "200/200 [==============================] - 208s 1s/step - loss: 4.0320 - acc: 0.0359 - val_loss: 3.9979 - val_acc: 0.0495\n",
      "Epoch 2/100\n",
      "200/200 [==============================] - 204s 1s/step - loss: 3.9600 - acc: 0.0470 - val_loss: 3.9140 - val_acc: 0.0638\n",
      "Epoch 3/100\n",
      "200/200 [==============================] - 202s 1s/step - loss: 3.8817 - acc: 0.0564 - val_loss: 3.8454 - val_acc: 0.0716\n",
      "Epoch 4/100\n",
      "200/200 [==============================] - 202s 1s/step - loss: 3.8041 - acc: 0.0679 - val_loss: 3.7739 - val_acc: 0.0859\n",
      "Epoch 5/100\n",
      "200/200 [==============================] - 201s 1s/step - loss: 3.7320 - acc: 0.0729 - val_loss: 3.7162 - val_acc: 0.0859\n",
      "Epoch 6/100\n",
      "200/200 [==============================] - 202s 1s/step - loss: 3.6822 - acc: 0.0784 - val_loss: 3.6807 - val_acc: 0.0664\n",
      "Epoch 7/100\n",
      "200/200 [==============================] - 205s 1s/step - loss: 3.6337 - acc: 0.0892 - val_loss: 3.6106 - val_acc: 0.0872\n",
      "Epoch 8/100\n",
      "200/200 [==============================] - 206s 1s/step - loss: 3.6000 - acc: 0.0887 - val_loss: 3.5703 - val_acc: 0.0816\n",
      "Epoch 9/100\n",
      "200/200 [==============================] - 203s 1s/step - loss: 3.5527 - acc: 0.0946 - val_loss: 3.5494 - val_acc: 0.0990\n",
      "Epoch 10/100\n",
      "200/200 [==============================] - 201s 1s/step - loss: 3.5142 - acc: 0.1026 - val_loss: 3.5190 - val_acc: 0.0951\n",
      "Epoch 11/100\n",
      "200/200 [==============================] - 204s 1s/step - loss: 3.4673 - acc: 0.1112 - val_loss: 3.4518 - val_acc: 0.1003\n",
      "Epoch 12/100\n",
      "200/200 [==============================] - 200s 1s/step - loss: 3.4463 - acc: 0.1070 - val_loss: 3.4142 - val_acc: 0.1003\n",
      "Epoch 13/100\n",
      "200/200 [==============================] - 202s 1s/step - loss: 3.4047 - acc: 0.1103 - val_loss: 3.3614 - val_acc: 0.1328\n",
      "Epoch 14/100\n",
      "200/200 [==============================] - 205s 1s/step - loss: 3.3816 - acc: 0.1194 - val_loss: 3.3942 - val_acc: 0.1172\n",
      "Epoch 15/100\n",
      "200/200 [==============================] - 201s 1s/step - loss: 3.3448 - acc: 0.1202 - val_loss: 3.3620 - val_acc: 0.1250\n",
      "Epoch 16/100\n",
      "200/200 [==============================] - 201s 1s/step - loss: 3.3236 - acc: 0.1250 - val_loss: 3.3477 - val_acc: 0.1158\n",
      "Epoch 17/100\n",
      "200/200 [==============================] - 205s 1s/step - loss: 3.2843 - acc: 0.1320 - val_loss: 3.3518 - val_acc: 0.0898\n",
      "Epoch 18/100\n",
      "200/200 [==============================] - 205s 1s/step - loss: 3.2536 - acc: 0.1348 - val_loss: 3.2877 - val_acc: 0.1224\n",
      "Epoch 19/100\n",
      "200/200 [==============================] - 202s 1s/step - loss: 3.2349 - acc: 0.1358 - val_loss: 3.2091 - val_acc: 0.1458\n",
      "Epoch 20/100\n",
      "200/200 [==============================] - 201s 1s/step - loss: 3.2098 - acc: 0.1409 - val_loss: 3.2150 - val_acc: 0.1406\n",
      "Epoch 21/100\n",
      "200/200 [==============================] - 203s 1s/step - loss: 3.1827 - acc: 0.1473 - val_loss: 3.2395 - val_acc: 0.1250\n",
      "Epoch 22/100\n",
      "200/200 [==============================] - 205s 1s/step - loss: 3.1619 - acc: 0.1523 - val_loss: 3.2229 - val_acc: 0.1576\n",
      "Epoch 23/100\n",
      "200/200 [==============================] - 205s 1s/step - loss: 3.1400 - acc: 0.1527 - val_loss: 3.1221 - val_acc: 0.1562\n",
      "Epoch 24/100\n",
      "200/200 [==============================] - 200s 999ms/step - loss: 3.1020 - acc: 0.1597 - val_loss: 3.1633 - val_acc: 0.1605\n",
      "Epoch 25/100\n",
      "200/200 [==============================] - 200s 999ms/step - loss: 3.0893 - acc: 0.1567 - val_loss: 3.0339 - val_acc: 0.1745\n",
      "Epoch 26/100\n",
      "200/200 [==============================] - 194s 972ms/step - loss: 3.0664 - acc: 0.1643 - val_loss: 3.0812 - val_acc: 0.1523\n",
      "Epoch 27/100\n",
      "200/200 [==============================] - 201s 1s/step - loss: 3.0498 - acc: 0.1731 - val_loss: 3.0447 - val_acc: 0.1901\n",
      "Epoch 28/100\n",
      "200/200 [==============================] - 205s 1s/step - loss: 3.0174 - acc: 0.1766 - val_loss: 3.1303 - val_acc: 0.1484\n",
      "Epoch 29/100\n",
      "200/200 [==============================] - 202s 1s/step - loss: 3.0078 - acc: 0.1780 - val_loss: 3.0256 - val_acc: 0.1758\n",
      "Epoch 30/100\n",
      "200/200 [==============================] - 203s 1s/step - loss: 2.9740 - acc: 0.1824 - val_loss: 2.9866 - val_acc: 0.1719\n",
      "Epoch 31/100\n",
      "200/200 [==============================] - 205s 1s/step - loss: 2.9715 - acc: 0.1861 - val_loss: 2.8700 - val_acc: 0.2096\n",
      "Epoch 32/100\n",
      "200/200 [==============================] - 205s 1s/step - loss: 2.9420 - acc: 0.1927 - val_loss: 2.9222 - val_acc: 0.1895\n",
      "Epoch 33/100\n",
      "200/200 [==============================] - 204s 1s/step - loss: 2.9474 - acc: 0.1897 - val_loss: 2.8970 - val_acc: 0.2018\n",
      "Epoch 34/100\n",
      "200/200 [==============================] - 200s 998ms/step - loss: 2.9121 - acc: 0.1992 - val_loss: 2.8858 - val_acc: 0.2227\n",
      "Epoch 35/100\n",
      "200/200 [==============================] - 199s 994ms/step - loss: 2.8997 - acc: 0.2005 - val_loss: 2.9192 - val_acc: 0.1849\n",
      "Epoch 36/100\n",
      "200/200 [==============================] - 203s 1s/step - loss: 2.8761 - acc: 0.2030 - val_loss: 2.8246 - val_acc: 0.2227\n",
      "Epoch 37/100\n",
      "200/200 [==============================] - 201s 1s/step - loss: 2.8645 - acc: 0.2060 - val_loss: 2.8580 - val_acc: 0.1979\n",
      "Epoch 38/100\n",
      "200/200 [==============================] - 205s 1s/step - loss: 2.8516 - acc: 0.2070 - val_loss: 2.8238 - val_acc: 0.2266\n",
      "Epoch 39/100\n",
      "200/200 [==============================] - 204s 1s/step - loss: 2.8366 - acc: 0.2157 - val_loss: 2.8384 - val_acc: 0.2161\n",
      "Epoch 40/100\n",
      "200/200 [==============================] - 202s 1s/step - loss: 2.8197 - acc: 0.2173 - val_loss: 2.8059 - val_acc: 0.2145\n",
      "Epoch 41/100\n",
      "200/200 [==============================] - 201s 1s/step - loss: 2.8056 - acc: 0.2135 - val_loss: 2.9007 - val_acc: 0.2031\n",
      "Epoch 42/100\n",
      "200/200 [==============================] - 204s 1s/step - loss: 2.7854 - acc: 0.2233 - val_loss: 2.8423 - val_acc: 0.2201\n",
      "Epoch 43/100\n",
      "200/200 [==============================] - 205s 1s/step - loss: 2.7921 - acc: 0.2212 - val_loss: 2.8019 - val_acc: 0.2227\n",
      "Epoch 44/100\n",
      "200/200 [==============================] - 201s 1s/step - loss: 2.7658 - acc: 0.2279 - val_loss: 2.7101 - val_acc: 0.2383\n",
      "Epoch 45/100\n",
      "200/200 [==============================] - 199s 993ms/step - loss: 2.7336 - acc: 0.2380 - val_loss: 2.7285 - val_acc: 0.2331\n",
      "Epoch 46/100\n",
      "200/200 [==============================] - 199s 994ms/step - loss: 2.7417 - acc: 0.2337 - val_loss: 2.7195 - val_acc: 0.2526\n",
      "Epoch 47/100\n",
      "200/200 [==============================] - 200s 998ms/step - loss: 2.7221 - acc: 0.2340 - val_loss: 2.8100 - val_acc: 0.2422\n",
      "Epoch 48/100\n",
      "200/200 [==============================] - 207s 1s/step - loss: 2.6997 - acc: 0.2449 - val_loss: 2.7130 - val_acc: 0.2408\n",
      "Epoch 49/100\n",
      "200/200 [==============================] - 204s 1s/step - loss: 2.7100 - acc: 0.2464 - val_loss: 2.7419 - val_acc: 0.2109\n",
      "Epoch 50/100\n",
      "200/200 [==============================] - 206s 1s/step - loss: 2.6900 - acc: 0.2448 - val_loss: 2.7377 - val_acc: 0.2474\n",
      "Epoch 51/100\n",
      "200/200 [==============================] - 206s 1s/step - loss: 2.6808 - acc: 0.2479 - val_loss: 2.6327 - val_acc: 0.2461\n",
      "Epoch 52/100\n",
      "200/200 [==============================] - 201s 1s/step - loss: 2.6742 - acc: 0.2502 - val_loss: 2.6575 - val_acc: 0.2396\n",
      "Epoch 53/100\n",
      "200/200 [==============================] - 203s 1s/step - loss: 2.6526 - acc: 0.2584 - val_loss: 2.7716 - val_acc: 0.2266\n",
      "Epoch 54/100\n",
      "200/200 [==============================] - 204s 1s/step - loss: 2.6642 - acc: 0.2526 - val_loss: 2.6707 - val_acc: 0.2721\n",
      "Epoch 55/100\n",
      "200/200 [==============================] - 205s 1s/step - loss: 2.6197 - acc: 0.2652 - val_loss: 2.6185 - val_acc: 0.2799\n",
      "Epoch 56/100\n",
      "200/200 [==============================] - 201s 1s/step - loss: 2.6296 - acc: 0.2613 - val_loss: 2.6769 - val_acc: 0.2592\n",
      "Epoch 57/100\n",
      "200/200 [==============================] - 203s 1s/step - loss: 2.6229 - acc: 0.2621 - val_loss: 2.6704 - val_acc: 0.2565\n",
      "Epoch 58/100\n",
      "200/200 [==============================] - 203s 1s/step - loss: 2.6139 - acc: 0.2670 - val_loss: 2.7089 - val_acc: 0.2214\n",
      "Epoch 59/100\n",
      "200/200 [==============================] - 202s 1s/step - loss: 2.5986 - acc: 0.2734 - val_loss: 2.5514 - val_acc: 0.3112\n",
      "Epoch 60/100\n",
      "200/200 [==============================] - 200s 1s/step - loss: 2.5838 - acc: 0.2735 - val_loss: 2.5710 - val_acc: 0.2799\n",
      "Epoch 61/100\n"
     ]
    },
    {
     "name": "stdout",
     "output_type": "stream",
     "text": [
      "200/200 [==============================] - 206s 1s/step - loss: 2.5878 - acc: 0.2682 - val_loss: 2.5952 - val_acc: 0.2891\n",
      "Epoch 62/100\n",
      "200/200 [==============================] - 208s 1s/step - loss: 2.5601 - acc: 0.2809 - val_loss: 2.6080 - val_acc: 0.2773\n",
      "Epoch 63/100\n",
      "200/200 [==============================] - 204s 1s/step - loss: 2.5486 - acc: 0.2795 - val_loss: 2.5181 - val_acc: 0.2695\n",
      "Epoch 64/100\n",
      "200/200 [==============================] - 204s 1s/step - loss: 2.5635 - acc: 0.2796 - val_loss: 2.6320 - val_acc: 0.2592\n",
      "Epoch 65/100\n",
      "200/200 [==============================] - 203s 1s/step - loss: 2.5402 - acc: 0.2905 - val_loss: 2.5799 - val_acc: 0.2826\n",
      "Epoch 66/100\n",
      "200/200 [==============================] - 201s 1s/step - loss: 2.5470 - acc: 0.2855 - val_loss: 2.6567 - val_acc: 0.2539\n",
      "Epoch 67/100\n",
      "200/200 [==============================] - 204s 1s/step - loss: 2.5182 - acc: 0.2902 - val_loss: 2.5867 - val_acc: 0.2695\n",
      "Epoch 68/100\n",
      "200/200 [==============================] - 201s 1s/step - loss: 2.5206 - acc: 0.2890 - val_loss: 2.4756 - val_acc: 0.3099\n",
      "Epoch 69/100\n",
      "200/200 [==============================] - 203s 1s/step - loss: 2.5129 - acc: 0.2912 - val_loss: 2.5754 - val_acc: 0.2799\n",
      "Epoch 70/100\n",
      "200/200 [==============================] - 206s 1s/step - loss: 2.4951 - acc: 0.2984 - val_loss: 2.4856 - val_acc: 0.2852\n",
      "Epoch 71/100\n",
      "200/200 [==============================] - 204s 1s/step - loss: 2.4906 - acc: 0.2989 - val_loss: 2.9037 - val_acc: 0.2279\n",
      "Epoch 72/100\n",
      "200/200 [==============================] - 204s 1s/step - loss: 2.4824 - acc: 0.3008 - val_loss: 2.4911 - val_acc: 0.3066\n",
      "Epoch 73/100\n",
      "200/200 [==============================] - 204s 1s/step - loss: 2.4602 - acc: 0.3030 - val_loss: 2.4343 - val_acc: 0.3177\n",
      "Epoch 74/100\n",
      "200/200 [==============================] - 201s 1s/step - loss: 2.4729 - acc: 0.3040 - val_loss: 2.5621 - val_acc: 0.2695\n",
      "Epoch 75/100\n",
      "200/200 [==============================] - 202s 1s/step - loss: 2.4610 - acc: 0.3010 - val_loss: 2.4612 - val_acc: 0.3099\n",
      "Epoch 76/100\n",
      "200/200 [==============================] - 202s 1s/step - loss: 2.4651 - acc: 0.3084 - val_loss: 2.6878 - val_acc: 0.2747\n",
      "Epoch 77/100\n",
      "200/200 [==============================] - 204s 1s/step - loss: 2.4269 - acc: 0.3176 - val_loss: 2.6970 - val_acc: 0.2435\n",
      "Epoch 78/100\n",
      "200/200 [==============================] - 204s 1s/step - loss: 2.4353 - acc: 0.3134 - val_loss: 2.5237 - val_acc: 0.3125\n",
      "Epoch 79/100\n",
      "200/200 [==============================] - 203s 1s/step - loss: 2.4211 - acc: 0.3206 - val_loss: 2.5310 - val_acc: 0.2826\n",
      "Epoch 80/100\n",
      "200/200 [==============================] - 196s 982ms/step - loss: 2.4314 - acc: 0.3147 - val_loss: 2.3996 - val_acc: 0.3211\n",
      "Epoch 81/100\n",
      "200/200 [==============================] - 200s 1s/step - loss: 2.4192 - acc: 0.3240 - val_loss: 2.5309 - val_acc: 0.3073\n",
      "Epoch 82/100\n",
      "200/200 [==============================] - 206s 1s/step - loss: 2.3919 - acc: 0.3234 - val_loss: 2.5356 - val_acc: 0.3177\n",
      "Epoch 83/100\n",
      "200/200 [==============================] - 205s 1s/step - loss: 2.3970 - acc: 0.3284 - val_loss: 2.4509 - val_acc: 0.2930\n",
      "Epoch 84/100\n",
      "200/200 [==============================] - 205s 1s/step - loss: 2.3831 - acc: 0.3280 - val_loss: 2.3255 - val_acc: 0.3477\n",
      "Epoch 85/100\n",
      "200/200 [==============================] - 200s 1s/step - loss: 2.3811 - acc: 0.3252 - val_loss: 2.4544 - val_acc: 0.3359\n",
      "Epoch 86/100\n",
      "200/200 [==============================] - 198s 992ms/step - loss: 2.3648 - acc: 0.3275 - val_loss: 2.4491 - val_acc: 0.3177\n",
      "Epoch 87/100\n",
      "200/200 [==============================] - 203s 1s/step - loss: 2.3544 - acc: 0.3381 - val_loss: 2.3165 - val_acc: 0.3724\n",
      "Epoch 88/100\n",
      "200/200 [==============================] - 201s 1s/step - loss: 2.3493 - acc: 0.3366 - val_loss: 2.5432 - val_acc: 0.2982\n",
      "Epoch 89/100\n",
      "200/200 [==============================] - 200s 1s/step - loss: 2.3658 - acc: 0.3395 - val_loss: 2.4710 - val_acc: 0.3105\n",
      "Epoch 90/100\n",
      "200/200 [==============================] - 201s 1s/step - loss: 2.3149 - acc: 0.3463 - val_loss: 2.4018 - val_acc: 0.3333\n",
      "Epoch 91/100\n",
      "200/200 [==============================] - 202s 1s/step - loss: 2.3479 - acc: 0.3409 - val_loss: 2.3637 - val_acc: 0.3359\n",
      "Epoch 92/100\n",
      "200/200 [==============================] - 201s 1s/step - loss: 2.3087 - acc: 0.3468 - val_loss: 2.3701 - val_acc: 0.3424\n",
      "Epoch 93/100\n",
      "200/200 [==============================] - 205s 1s/step - loss: 2.3231 - acc: 0.3452 - val_loss: 2.4001 - val_acc: 0.3359\n",
      "Epoch 94/100\n",
      "200/200 [==============================] - 205s 1s/step - loss: 2.3190 - acc: 0.3451 - val_loss: 2.2762 - val_acc: 0.3815\n",
      "Epoch 95/100\n",
      "200/200 [==============================] - 203s 1s/step - loss: 2.2905 - acc: 0.3607 - val_loss: 2.3101 - val_acc: 0.3594\n",
      "Epoch 96/100\n",
      "200/200 [==============================] - 204s 1s/step - loss: 2.2917 - acc: 0.3561 - val_loss: 2.4272 - val_acc: 0.3177\n",
      "Epoch 97/100\n",
      "200/200 [==============================] - 202s 1s/step - loss: 2.2952 - acc: 0.3505 - val_loss: 2.3403 - val_acc: 0.3526\n",
      "Epoch 98/100\n",
      "200/200 [==============================] - 201s 1s/step - loss: 2.2797 - acc: 0.3608 - val_loss: 2.2886 - val_acc: 0.3633\n",
      "Epoch 99/100\n",
      "200/200 [==============================] - 198s 992ms/step - loss: 2.2810 - acc: 0.3544 - val_loss: 2.4310 - val_acc: 0.3242\n",
      "Epoch 100/100\n",
      "200/200 [==============================] - 200s 1s/step - loss: 2.2634 - acc: 0.3628 - val_loss: 2.2605 - val_acc: 0.3542\n"
     ]
    }
   ],
   "source": [
    "history = model.fit_generator(train_generator,steps_per_epoch=200,\n",
    "                              validation_data=validation_generator,validation_steps=750/64, \n",
    "                              epochs=100)"
   ]
  },
  {
   "cell_type": "code",
   "execution_count": 11,
   "metadata": {
    "colab": {
     "base_uri": "https://localhost:8080/",
     "height": 52
    },
    "colab_type": "code",
    "executionInfo": {
     "elapsed": 22929,
     "status": "ok",
     "timestamp": 1577814820592,
     "user": {
      "displayName": "정윤비",
      "photoUrl": "https://lh3.googleusercontent.com/a-/AAuE7mDPo7rDpuCFll8oq3tnoAes6qCXpMz_g3Q7sW4Q=s64",
      "userId": "01138123058524543991"
     },
     "user_tz": -540
    },
    "id": "jcgIdshzDaK2",
    "outputId": "429e7193-93e8-4d03-9e82-3e1056933041"
   },
   "outputs": [
    {
     "name": "stdout",
     "output_type": "stream",
     "text": [
      "-- Evaluate --\n",
      "acc: 31.56%\n"
     ]
    }
   ],
   "source": [
    "# 모델 평가하기\n",
    "print(\"-- Evaluate --\")\n",
    "\n",
    "scores = model.evaluate_generator(\n",
    "            validation_generator, \n",
    "            steps = 5)\n",
    "\n",
    "print(\"%s: %.2f%%\" %(model.metrics_names[1], scores[1]*100))"
   ]
  },
  {
   "cell_type": "code",
   "execution_count": 12,
   "metadata": {
    "colab": {},
    "colab_type": "code",
    "id": "cGbin8u0qecx"
   },
   "outputs": [],
   "source": [
    "from keras.models import load_model\n",
    "\n",
    "model.save('food_classfication_git_ver.h5')"
   ]
  },
  {
   "cell_type": "code",
   "execution_count": null,
   "metadata": {
    "colab": {},
    "colab_type": "code",
    "id": "LMzrk4h0F2al"
   },
   "outputs": [],
   "source": []
  },
  {
   "cell_type": "code",
   "execution_count": null,
   "metadata": {},
   "outputs": [],
   "source": []
  }
 ],
 "metadata": {
  "colab": {
   "collapsed_sections": [],
   "name": "food classfication_colab_깊은CNN_낮은epoch.ipynb",
   "provenance": []
  },
  "kernelspec": {
   "display_name": "Python 3",
   "language": "python",
   "name": "python3"
  },
  "language_info": {
   "codemirror_mode": {
    "name": "ipython",
    "version": 3
   },
   "file_extension": ".py",
   "mimetype": "text/x-python",
   "name": "python",
   "nbconvert_exporter": "python",
   "pygments_lexer": "ipython3",
   "version": "3.7.4"
  }
 },
 "nbformat": 4,
 "nbformat_minor": 1
}
