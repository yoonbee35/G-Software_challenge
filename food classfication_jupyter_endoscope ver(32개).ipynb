{
 "cells": [
  {
   "cell_type": "code",
   "execution_count": 7,
   "metadata": {
    "colab": {},
    "colab_type": "code",
    "id": "ugCwAjPNZxu3"
   },
   "outputs": [],
   "source": [
    "import numpy as np\n",
    "np.random.seed(3)\n",
    "from keras.preprocessing.image import ImageDataGenerator\n",
    "from keras.models import Sequential\n",
    "from keras.layers import Dense\n",
    "from keras.layers import Flatten\n",
    "from keras.layers.convolutional import Conv2D\n",
    "from keras.layers.convolutional import MaxPooling2D"
   ]
  },
  {
   "cell_type": "code",
   "execution_count": 17,
   "metadata": {
    "colab": {
     "base_uri": "https://localhost:8080/",
     "height": 52
    },
    "colab_type": "code",
    "executionInfo": {
     "elapsed": 2843,
     "status": "ok",
     "timestamp": 1577809449870,
     "user": {
      "displayName": "정윤비",
      "photoUrl": "https://lh3.googleusercontent.com/a-/AAuE7mDPo7rDpuCFll8oq3tnoAes6qCXpMz_g3Q7sW4Q=s64",
      "userId": "01138123058524543991"
     },
     "user_tz": -540
    },
    "id": "2GqCtLZ9oVVt",
    "outputId": "0e99cbcd-5eb0-4efc-a52f-6c01d47085c7"
   },
   "outputs": [
    {
     "name": "stdout",
     "output_type": "stream",
     "text": [
      "Found 24800 images belonging to 31 classes.\n",
      "Found 6200 images belonging to 31 classes.\n"
     ]
    }
   ],
   "source": [
    "#train files 전처리\n",
    "train_datagen = ImageDataGenerator(featurewise_center=False,\n",
    "                 samplewise_center=False,\n",
    "                 featurewise_std_normalization=False,\n",
    "                 samplewise_std_normalization=False,\n",
    "                 zca_whitening=False,\n",
    "                 rotation_range=10,\n",
    "                 width_shift_range=0.05,\n",
    "                 height_shift_range=0.05,\n",
    "                 shear_range=0.1,\n",
    "                 zoom_range=0.2,\n",
    "                 channel_shift_range=0.,\n",
    "                 fill_mode='nearest',\n",
    "                 cval=0.,\n",
    "                 horizontal_flip=True,\n",
    "                 vertical_flip=False,\n",
    "                 rescale=1/255,\n",
    "                 validation_split=0.2)\n",
    "\n",
    "train_generator = train_datagen.flow_from_directory(\n",
    "        \"food-101\\images\",\n",
    "        target_size=(224,224),\n",
    "        batch_size=64,\n",
    "        subset='training') # set as training data\n",
    "\n",
    "#validation set 생성\n",
    "validation_generator = train_datagen.flow_from_directory(\n",
    "    \"food-101\\images\",\n",
    "    target_size=(224,224),\n",
    "    batch_size=16,\n",
    "    subset='validation') # set as validation data"
   ]
  },
  {
   "cell_type": "code",
   "execution_count": 18,
   "metadata": {
    "colab": {},
    "colab_type": "code",
    "id": "Z9uxpOluoiEt"
   },
   "outputs": [
    {
     "name": "stdout",
     "output_type": "stream",
     "text": [
      "_________________________________________________________________\n",
      "Layer (type)                 Output Shape              Param #   \n",
      "=================================================================\n",
      "conv2d_13 (Conv2D)           (None, 222, 222, 32)      896       \n",
      "_________________________________________________________________\n",
      "max_pooling2d_13 (MaxPooling (None, 111, 111, 32)      0         \n",
      "_________________________________________________________________\n",
      "conv2d_14 (Conv2D)           (None, 109, 109, 64)      18496     \n",
      "_________________________________________________________________\n",
      "max_pooling2d_14 (MaxPooling (None, 54, 54, 64)        0         \n",
      "_________________________________________________________________\n",
      "conv2d_15 (Conv2D)           (None, 52, 52, 128)       73856     \n",
      "_________________________________________________________________\n",
      "max_pooling2d_15 (MaxPooling (None, 26, 26, 128)       0         \n",
      "_________________________________________________________________\n",
      "flatten_5 (Flatten)          (None, 86528)             0         \n",
      "_________________________________________________________________\n",
      "dense_9 (Dense)              (None, 512)               44302848  \n",
      "_________________________________________________________________\n",
      "dense_10 (Dense)             (None, 31)                15903     \n",
      "=================================================================\n",
      "Total params: 44,411,999\n",
      "Trainable params: 44,411,999\n",
      "Non-trainable params: 0\n",
      "_________________________________________________________________\n"
     ]
    }
   ],
   "source": [
    "model = Sequential()\n",
    "model.add(Conv2D(32, kernel_size=(3, 3),\n",
    "                 activation='relu',\n",
    "                 input_shape=(224,224,3)))\n",
    "model.add(MaxPooling2D(pool_size=(2, 2)))\n",
    "model.add(Conv2D(64, (3, 3), activation='relu'))\n",
    "model.add(MaxPooling2D(pool_size=(2, 2)))\n",
    "model.add(Conv2D(128, (3, 3), activation='relu'))\n",
    "model.add(MaxPooling2D(pool_size=(2, 2)))\n",
    "model.add(Flatten())\n",
    "model.add(Dense(512, activation='relu'))\n",
    "model.add(Dense(31, activation='softmax'))\n",
    "\n",
    "model.summary()"
   ]
  },
  {
   "cell_type": "code",
   "execution_count": 19,
   "metadata": {},
   "outputs": [],
   "source": [
    "model.compile(loss='categorical_crossentropy', optimizer='adam', metrics=['accuracy'])"
   ]
  },
  {
   "cell_type": "code",
   "execution_count": 20,
   "metadata": {
    "colab": {
     "base_uri": "https://localhost:8080/",
     "height": 369
    },
    "colab_type": "code",
    "executionInfo": {
     "elapsed": 727870,
     "status": "ok",
     "timestamp": 1577814786829,
     "user": {
      "displayName": "정윤비",
      "photoUrl": "https://lh3.googleusercontent.com/a-/AAuE7mDPo7rDpuCFll8oq3tnoAes6qCXpMz_g3Q7sW4Q=s64",
      "userId": "01138123058524543991"
     },
     "user_tz": -540
    },
    "id": "f1GRokXQqYTL",
    "outputId": "0c99ff31-0c6e-47e5-957e-f6f0a5f20e3c"
   },
   "outputs": [
    {
     "name": "stdout",
     "output_type": "stream",
     "text": [
      "Epoch 1/100\n",
      "200/200 [==============================] - 313s 2s/step - loss: 3.2788 - acc: 0.1018 - val_loss: 3.0487 - val_acc: 0.1562\n",
      "Epoch 2/100\n",
      "200/200 [==============================] - 322s 2s/step - loss: 2.9427 - acc: 0.1774 - val_loss: 2.9744 - val_acc: 0.1875\n",
      "Epoch 3/100\n",
      "200/200 [==============================] - 308s 2s/step - loss: 2.7476 - acc: 0.2282 - val_loss: 2.7139 - val_acc: 0.2500\n",
      "Epoch 4/100\n",
      "200/200 [==============================] - 309s 2s/step - loss: 2.6409 - acc: 0.2503 - val_loss: 2.7085 - val_acc: 0.2437\n",
      "Epoch 5/100\n",
      "200/200 [==============================] - 308s 2s/step - loss: 2.5075 - acc: 0.2898 - val_loss: 2.5319 - val_acc: 0.2625\n",
      "Epoch 6/100\n",
      "200/200 [==============================] - 309s 2s/step - loss: 2.4315 - acc: 0.3089 - val_loss: 2.4543 - val_acc: 0.3212\n",
      "Epoch 7/100\n",
      "200/200 [==============================] - 308s 2s/step - loss: 2.3326 - acc: 0.3318 - val_loss: 2.4640 - val_acc: 0.2988\n",
      "Epoch 8/100\n",
      "200/200 [==============================] - 307s 2s/step - loss: 2.2454 - acc: 0.3558 - val_loss: 2.3765 - val_acc: 0.3018\n",
      "Epoch 9/100\n",
      "200/200 [==============================] - 309s 2s/step - loss: 2.1713 - acc: 0.3722 - val_loss: 2.3272 - val_acc: 0.3237\n",
      "Epoch 10/100\n",
      "200/200 [==============================] - 307s 2s/step - loss: 2.1312 - acc: 0.3861 - val_loss: 2.2916 - val_acc: 0.3200\n",
      "Epoch 11/100\n",
      "200/200 [==============================] - 307s 2s/step - loss: 2.0553 - acc: 0.4073 - val_loss: 2.2654 - val_acc: 0.3538\n",
      "Epoch 12/100\n",
      "200/200 [==============================] - 307s 2s/step - loss: 2.0142 - acc: 0.4129 - val_loss: 2.1251 - val_acc: 0.3912\n",
      "Epoch 13/100\n",
      "200/200 [==============================] - 308s 2s/step - loss: 1.9809 - acc: 0.4255 - val_loss: 2.2321 - val_acc: 0.3688\n",
      "Epoch 14/100\n",
      "200/200 [==============================] - 308s 2s/step - loss: 1.9214 - acc: 0.4392 - val_loss: 2.2162 - val_acc: 0.3750\n",
      "Epoch 15/100\n",
      "200/200 [==============================] - 309s 2s/step - loss: 1.8789 - acc: 0.4534 - val_loss: 2.1149 - val_acc: 0.3925\n",
      "Epoch 16/100\n",
      "200/200 [==============================] - 308s 2s/step - loss: 1.8535 - acc: 0.4591 - val_loss: 2.3370 - val_acc: 0.3624\n",
      "Epoch 17/100\n",
      "200/200 [==============================] - 308s 2s/step - loss: 1.8268 - acc: 0.4637 - val_loss: 2.1441 - val_acc: 0.4100\n",
      "Epoch 18/100\n",
      "200/200 [==============================] - 308s 2s/step - loss: 1.7690 - acc: 0.4780 - val_loss: 2.2007 - val_acc: 0.3937\n",
      "Epoch 19/100\n",
      "200/200 [==============================] - 308s 2s/step - loss: 1.7635 - acc: 0.4823 - val_loss: 2.2095 - val_acc: 0.3850\n",
      "Epoch 20/100\n",
      "200/200 [==============================] - 308s 2s/step - loss: 1.7133 - acc: 0.5010 - val_loss: 2.1421 - val_acc: 0.4062\n",
      "Epoch 21/100\n",
      "200/200 [==============================] - 310s 2s/step - loss: 1.7153 - acc: 0.4905 - val_loss: 2.1494 - val_acc: 0.3937\n",
      "Epoch 22/100\n",
      "200/200 [==============================] - 308s 2s/step - loss: 1.6548 - acc: 0.5117 - val_loss: 2.0888 - val_acc: 0.4050\n",
      "Epoch 23/100\n",
      "200/200 [==============================] - 309s 2s/step - loss: 1.6418 - acc: 0.5173 - val_loss: 2.1444 - val_acc: 0.4263\n",
      "Epoch 24/100\n",
      "200/200 [==============================] - 307s 2s/step - loss: 1.5992 - acc: 0.5267 - val_loss: 2.2665 - val_acc: 0.3788\n",
      "Epoch 25/100\n",
      "200/200 [==============================] - 310s 2s/step - loss: 1.6082 - acc: 0.5280 - val_loss: 2.0342 - val_acc: 0.4425\n",
      "Epoch 26/100\n",
      "200/200 [==============================] - 309s 2s/step - loss: 1.5405 - acc: 0.5386 - val_loss: 2.1602 - val_acc: 0.4037\n",
      "Epoch 27/100\n",
      "200/200 [==============================] - 309s 2s/step - loss: 1.5783 - acc: 0.5378 - val_loss: 2.1219 - val_acc: 0.4100\n",
      "Epoch 28/100\n",
      "200/200 [==============================] - 308s 2s/step - loss: 1.4931 - acc: 0.5513 - val_loss: 2.0390 - val_acc: 0.4375\n",
      "Epoch 29/100\n",
      "200/200 [==============================] - 309s 2s/step - loss: 1.5160 - acc: 0.5454 - val_loss: 2.1302 - val_acc: 0.4000\n",
      "Epoch 30/100\n",
      "200/200 [==============================] - 309s 2s/step - loss: 1.4290 - acc: 0.5774 - val_loss: 2.2648 - val_acc: 0.4037\n",
      "Epoch 31/100\n",
      "200/200 [==============================] - 309s 2s/step - loss: 1.4802 - acc: 0.5603 - val_loss: 2.0851 - val_acc: 0.4200\n",
      "Epoch 32/100\n",
      "200/200 [==============================] - 308s 2s/step - loss: 1.4000 - acc: 0.5805 - val_loss: 2.1200 - val_acc: 0.4255\n",
      "Epoch 33/100\n",
      "200/200 [==============================] - 309s 2s/step - loss: 1.4370 - acc: 0.5709 - val_loss: 2.1530 - val_acc: 0.4225\n",
      "Epoch 34/100\n",
      "200/200 [==============================] - 309s 2s/step - loss: 1.3646 - acc: 0.5858 - val_loss: 2.0637 - val_acc: 0.4437\n",
      "Epoch 35/100\n",
      "200/200 [==============================] - 309s 2s/step - loss: 1.4136 - acc: 0.5780 - val_loss: 2.3246 - val_acc: 0.3937\n",
      "Epoch 36/100\n",
      "200/200 [==============================] - 311s 2s/step - loss: 1.3312 - acc: 0.6014 - val_loss: 2.2378 - val_acc: 0.4062\n",
      "Epoch 37/100\n",
      "200/200 [==============================] - 309s 2s/step - loss: 1.3337 - acc: 0.5995 - val_loss: 2.2519 - val_acc: 0.4300\n",
      "Epoch 38/100\n",
      "200/200 [==============================] - 310s 2s/step - loss: 1.2843 - acc: 0.6122 - val_loss: 2.0538 - val_acc: 0.4550\n",
      "Epoch 39/100\n",
      "200/200 [==============================] - 310s 2s/step - loss: 1.3329 - acc: 0.5974 - val_loss: 2.1256 - val_acc: 0.4205\n",
      "Epoch 40/100\n",
      "200/200 [==============================] - 311s 2s/step - loss: 1.2776 - acc: 0.6167 - val_loss: 2.2735 - val_acc: 0.4188\n",
      "Epoch 41/100\n",
      "200/200 [==============================] - 310s 2s/step - loss: 1.2836 - acc: 0.6139 - val_loss: 2.3389 - val_acc: 0.4075\n",
      "Epoch 42/100\n",
      "200/200 [==============================] - 311s 2s/step - loss: 1.2646 - acc: 0.6154 - val_loss: 2.1892 - val_acc: 0.4138\n",
      "Epoch 43/100\n",
      "200/200 [==============================] - 310s 2s/step - loss: 1.2330 - acc: 0.6271 - val_loss: 2.1547 - val_acc: 0.4225\n",
      "Epoch 44/100\n",
      "200/200 [==============================] - 311s 2s/step - loss: 1.2147 - acc: 0.6356 - val_loss: 2.1078 - val_acc: 0.4475\n",
      "Epoch 45/100\n",
      "200/200 [==============================] - 310s 2s/step - loss: 1.2082 - acc: 0.6315 - val_loss: 2.1867 - val_acc: 0.4325\n",
      "Epoch 46/100\n",
      "200/200 [==============================] - 310s 2s/step - loss: 1.2244 - acc: 0.6257 - val_loss: 2.2441 - val_acc: 0.4238\n",
      "Epoch 47/100\n",
      "200/200 [==============================] - 310s 2s/step - loss: 1.1558 - acc: 0.6498 - val_loss: 2.2656 - val_acc: 0.4508\n",
      "Epoch 48/100\n",
      "200/200 [==============================] - 311s 2s/step - loss: 1.1736 - acc: 0.6423 - val_loss: 2.1524 - val_acc: 0.4462\n",
      "Epoch 49/100\n",
      "200/200 [==============================] - 310s 2s/step - loss: 1.1460 - acc: 0.6535 - val_loss: 2.4627 - val_acc: 0.3962\n",
      "Epoch 50/100\n",
      "200/200 [==============================] - 310s 2s/step - loss: 1.1506 - acc: 0.6499 - val_loss: 2.1643 - val_acc: 0.4400\n",
      "Epoch 51/100\n",
      "200/200 [==============================] - 310s 2s/step - loss: 1.1190 - acc: 0.6587 - val_loss: 2.3101 - val_acc: 0.4075\n",
      "Epoch 52/100\n",
      "200/200 [==============================] - 311s 2s/step - loss: 1.1069 - acc: 0.6658 - val_loss: 2.3761 - val_acc: 0.4338\n",
      "Epoch 53/100\n",
      "200/200 [==============================] - 310s 2s/step - loss: 1.0969 - acc: 0.6662 - val_loss: 2.3931 - val_acc: 0.4213\n",
      "Epoch 54/100\n",
      "200/200 [==============================] - 310s 2s/step - loss: 1.1249 - acc: 0.6514 - val_loss: 2.2548 - val_acc: 0.4500\n",
      "Epoch 55/100\n",
      "200/200 [==============================] - 310s 2s/step - loss: 1.0688 - acc: 0.6736 - val_loss: 2.2547 - val_acc: 0.4419\n",
      "Epoch 56/100\n",
      "200/200 [==============================] - 312s 2s/step - loss: 1.0949 - acc: 0.6641 - val_loss: 2.2169 - val_acc: 0.4238\n",
      "Epoch 57/100\n",
      "200/200 [==============================] - 310s 2s/step - loss: 1.0240 - acc: 0.6866 - val_loss: 2.4327 - val_acc: 0.4188\n",
      "Epoch 58/100\n",
      "200/200 [==============================] - 312s 2s/step - loss: 1.0526 - acc: 0.6816 - val_loss: 2.3828 - val_acc: 0.4275\n",
      "Epoch 59/100\n",
      "200/200 [==============================] - 311s 2s/step - loss: 1.0151 - acc: 0.6847 - val_loss: 2.6442 - val_acc: 0.4037\n",
      "Epoch 60/100\n",
      "200/200 [==============================] - 312s 2s/step - loss: 1.0550 - acc: 0.6796 - val_loss: 2.3329 - val_acc: 0.4350\n",
      "Epoch 61/100\n",
      "200/200 [==============================] - 311s 2s/step - loss: 0.9865 - acc: 0.6952 - val_loss: 2.4548 - val_acc: 0.4462\n"
     ]
    },
    {
     "name": "stdout",
     "output_type": "stream",
     "text": [
      "Epoch 62/100\n",
      "200/200 [==============================] - 311s 2s/step - loss: 1.0259 - acc: 0.6833 - val_loss: 2.3184 - val_acc: 0.4350\n",
      "Epoch 63/100\n",
      "200/200 [==============================] - 310s 2s/step - loss: 0.9434 - acc: 0.7078 - val_loss: 2.4669 - val_acc: 0.4343\n",
      "Epoch 64/100\n",
      "200/200 [==============================] - 311s 2s/step - loss: 0.9946 - acc: 0.6939 - val_loss: 2.2645 - val_acc: 0.4487\n",
      "Epoch 65/100\n",
      "200/200 [==============================] - 310s 2s/step - loss: 0.9225 - acc: 0.7152 - val_loss: 2.3102 - val_acc: 0.4400\n",
      "Epoch 66/100\n",
      "200/200 [==============================] - 310s 2s/step - loss: 0.9602 - acc: 0.7004 - val_loss: 2.4383 - val_acc: 0.4275\n",
      "Epoch 67/100\n",
      "200/200 [==============================] - 311s 2s/step - loss: 0.9185 - acc: 0.7148 - val_loss: 2.4773 - val_acc: 0.4250\n",
      "Epoch 68/100\n",
      "200/200 [==============================] - 311s 2s/step - loss: 0.9418 - acc: 0.7082 - val_loss: 2.6020 - val_acc: 0.4088\n",
      "Epoch 69/100\n",
      "200/200 [==============================] - 312s 2s/step - loss: 0.9064 - acc: 0.7230 - val_loss: 2.4558 - val_acc: 0.4325\n",
      "Epoch 70/100\n",
      "200/200 [==============================] - 312s 2s/step - loss: 0.9243 - acc: 0.7112 - val_loss: 2.6468 - val_acc: 0.4242\n",
      "Epoch 71/100\n",
      "200/200 [==============================] - 312s 2s/step - loss: 0.8964 - acc: 0.7234 - val_loss: 2.6640 - val_acc: 0.4275\n",
      "Epoch 72/100\n",
      "200/200 [==============================] - 311s 2s/step - loss: 0.9012 - acc: 0.7234 - val_loss: 2.4942 - val_acc: 0.4475\n",
      "Epoch 73/100\n",
      "200/200 [==============================] - 312s 2s/step - loss: 0.8768 - acc: 0.7245 - val_loss: 2.6185 - val_acc: 0.4400\n",
      "Epoch 74/100\n",
      "200/200 [==============================] - 311s 2s/step - loss: 0.8874 - acc: 0.7255 - val_loss: 2.5816 - val_acc: 0.4238\n",
      "Epoch 75/100\n",
      "200/200 [==============================] - 312s 2s/step - loss: 0.8544 - acc: 0.7345 - val_loss: 2.6614 - val_acc: 0.4113\n",
      "Epoch 76/100\n",
      "200/200 [==============================] - 312s 2s/step - loss: 0.8496 - acc: 0.7405 - val_loss: 2.6866 - val_acc: 0.4350\n",
      "Epoch 77/100\n",
      "200/200 [==============================] - 312s 2s/step - loss: 0.8431 - acc: 0.7328 - val_loss: 2.4834 - val_acc: 0.4512\n",
      "Epoch 78/100\n",
      "200/200 [==============================] - 310s 2s/step - loss: 0.8481 - acc: 0.7380 - val_loss: 2.6004 - val_acc: 0.4192\n",
      "Epoch 79/100\n",
      "200/200 [==============================] - 312s 2s/step - loss: 0.8115 - acc: 0.7503 - val_loss: 2.6064 - val_acc: 0.4400\n",
      "Epoch 80/100\n",
      "200/200 [==============================] - 312s 2s/step - loss: 0.8174 - acc: 0.7480 - val_loss: 2.6930 - val_acc: 0.4375\n",
      "Epoch 81/100\n",
      "200/200 [==============================] - 313s 2s/step - loss: 0.8171 - acc: 0.7449 - val_loss: 2.7171 - val_acc: 0.4163\n",
      "Epoch 82/100\n",
      "200/200 [==============================] - 312s 2s/step - loss: 0.8133 - acc: 0.7502 - val_loss: 2.3748 - val_acc: 0.4713\n",
      "Epoch 83/100\n",
      "200/200 [==============================] - 312s 2s/step - loss: 0.7904 - acc: 0.7560 - val_loss: 2.7942 - val_acc: 0.4088\n",
      "Epoch 84/100\n",
      "200/200 [==============================] - 312s 2s/step - loss: 0.7869 - acc: 0.7535 - val_loss: 2.4730 - val_acc: 0.4200\n",
      "Epoch 85/100\n",
      "200/200 [==============================] - 312s 2s/step - loss: 0.8033 - acc: 0.7464 - val_loss: 2.6462 - val_acc: 0.4225\n",
      "Epoch 86/100\n",
      "200/200 [==============================] - 313s 2s/step - loss: 0.7961 - acc: 0.7506 - val_loss: 2.5837 - val_acc: 0.4495\n",
      "Epoch 87/100\n",
      "200/200 [==============================] - 313s 2s/step - loss: 0.7793 - acc: 0.7565 - val_loss: 2.9563 - val_acc: 0.3850\n",
      "Epoch 88/100\n",
      "200/200 [==============================] - 312s 2s/step - loss: 0.7425 - acc: 0.7620 - val_loss: 2.9495 - val_acc: 0.4188\n",
      "Epoch 89/100\n",
      "200/200 [==============================] - 313s 2s/step - loss: 0.7630 - acc: 0.7630 - val_loss: 2.7753 - val_acc: 0.4325\n",
      "Epoch 90/100\n",
      "200/200 [==============================] - 312s 2s/step - loss: 0.7290 - acc: 0.7729 - val_loss: 2.6026 - val_acc: 0.4363\n",
      "Epoch 91/100\n",
      "200/200 [==============================] - 313s 2s/step - loss: 0.7638 - acc: 0.7611 - val_loss: 2.5702 - val_acc: 0.4575\n",
      "Epoch 92/100\n",
      "200/200 [==============================] - 312s 2s/step - loss: 0.7286 - acc: 0.7700 - val_loss: 2.6361 - val_acc: 0.4475\n",
      "Epoch 93/100\n",
      "200/200 [==============================] - 313s 2s/step - loss: 0.7702 - acc: 0.7635 - val_loss: 2.4789 - val_acc: 0.4500\n",
      "Epoch 94/100\n",
      "200/200 [==============================] - 312s 2s/step - loss: 0.7130 - acc: 0.7756 - val_loss: 2.6778 - val_acc: 0.4432\n",
      "Epoch 95/100\n",
      "200/200 [==============================] - 313s 2s/step - loss: 0.7364 - acc: 0.7673 - val_loss: 2.6486 - val_acc: 0.4475\n",
      "Epoch 96/100\n",
      "200/200 [==============================] - 313s 2s/step - loss: 0.7005 - acc: 0.7820 - val_loss: 2.6110 - val_acc: 0.4525\n",
      "Epoch 97/100\n",
      "200/200 [==============================] - 312s 2s/step - loss: 0.7118 - acc: 0.7800 - val_loss: 2.8032 - val_acc: 0.4313\n",
      "Epoch 98/100\n",
      "200/200 [==============================] - 313s 2s/step - loss: 0.6729 - acc: 0.7880 - val_loss: 2.7647 - val_acc: 0.4550\n",
      "Epoch 99/100\n",
      "200/200 [==============================] - 312s 2s/step - loss: 0.7093 - acc: 0.7787 - val_loss: 2.7172 - val_acc: 0.4437\n",
      "Epoch 100/100\n",
      "200/200 [==============================] - 313s 2s/step - loss: 0.6639 - acc: 0.7900 - val_loss: 3.2118 - val_acc: 0.4100\n"
     ]
    }
   ],
   "source": [
    "history = model.fit_generator(train_generator,steps_per_epoch=200,\n",
    "                              validation_data=validation_generator,validation_steps=50, \n",
    "                              epochs=100)"
   ]
  },
  {
   "cell_type": "code",
   "execution_count": 21,
   "metadata": {
    "colab": {
     "base_uri": "https://localhost:8080/",
     "height": 52
    },
    "colab_type": "code",
    "executionInfo": {
     "elapsed": 22929,
     "status": "ok",
     "timestamp": 1577814820592,
     "user": {
      "displayName": "정윤비",
      "photoUrl": "https://lh3.googleusercontent.com/a-/AAuE7mDPo7rDpuCFll8oq3tnoAes6qCXpMz_g3Q7sW4Q=s64",
      "userId": "01138123058524543991"
     },
     "user_tz": -540
    },
    "id": "jcgIdshzDaK2",
    "outputId": "429e7193-93e8-4d03-9e82-3e1056933041"
   },
   "outputs": [
    {
     "name": "stdout",
     "output_type": "stream",
     "text": [
      "-- Evaluate --\n",
      "acc: 42.50%\n"
     ]
    }
   ],
   "source": [
    "# 모델 평가하기\n",
    "print(\"-- Evaluate --\")\n",
    "\n",
    "scores = model.evaluate_generator(\n",
    "            validation_generator, \n",
    "            steps = 5)\n",
    "\n",
    "print(\"%s: %.2f%%\" %(model.metrics_names[1], scores[1]*100))"
   ]
  },
  {
   "cell_type": "code",
   "execution_count": 22,
   "metadata": {
    "colab": {},
    "colab_type": "code",
    "id": "cGbin8u0qecx"
   },
   "outputs": [],
   "source": [
    "from keras.models import load_model\n",
    "\n",
    "model.save('food_classfication_endoscope(75%)ver_32개.h5')"
   ]
  },
  {
   "cell_type": "code",
   "execution_count": 0,
   "metadata": {
    "colab": {},
    "colab_type": "code",
    "id": "LMzrk4h0F2al"
   },
   "outputs": [],
   "source": []
  }
 ],
 "metadata": {
  "colab": {
   "collapsed_sections": [],
   "name": "food classfication_colab_깊은CNN_낮은epoch.ipynb",
   "provenance": []
  },
  "kernelspec": {
   "display_name": "Python 3",
   "language": "python",
   "name": "python3"
  },
  "language_info": {
   "codemirror_mode": {
    "name": "ipython",
    "version": 3
   },
   "file_extension": ".py",
   "mimetype": "text/x-python",
   "name": "python",
   "nbconvert_exporter": "python",
   "pygments_lexer": "ipython3",
   "version": "3.7.4"
  }
 },
 "nbformat": 4,
 "nbformat_minor": 1
}
